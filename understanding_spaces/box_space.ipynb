{
 "cells": [
  {
   "cell_type": "code",
   "execution_count": 11,
   "metadata": {},
   "outputs": [
    {
     "name": "stdout",
     "output_type": "stream",
     "text": [
      "(3,)\n",
      "[-0.23095623  0.1660221   0.734611  ]\n",
      "[-1. -1. -1.]\n",
      "[1. 1. 1.]\n",
      "True\n"
     ]
    }
   ],
   "source": [
    "import numpy as np\n",
    "from gymnasium.spaces import Box\n",
    "\n",
    "obs_space = Box(low=-1, high=1, shape=(3, ), dtype=np.float32)\n",
    "\n",
    "print(obs_space.shape) # (3, )\n",
    "print(obs_space.sample()) # Random sample within range [-1, 1]\n",
    "print(obs_space.low) # [-1. -1. -1.] Lower bound of the space\n",
    "print(obs_space.high) # [1. 1. 1.] Upper bound of the space\n",
    "print(obs_space.contains(np.array([0.5, -0.5, 0.2], dtype=np.float32))) # Check validity"
   ]
  }
 ],
 "metadata": {
  "kernelspec": {
   "display_name": ".venv",
   "language": "python",
   "name": "python3"
  },
  "language_info": {
   "codemirror_mode": {
    "name": "ipython",
    "version": 3
   },
   "file_extension": ".py",
   "mimetype": "text/x-python",
   "name": "python",
   "nbconvert_exporter": "python",
   "pygments_lexer": "ipython3",
   "version": "3.8.10"
  }
 },
 "nbformat": 4,
 "nbformat_minor": 2
}
