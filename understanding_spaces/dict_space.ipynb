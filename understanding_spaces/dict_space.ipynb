{
 "cells": [
  {
   "cell_type": "code",
   "execution_count": 3,
   "metadata": {},
   "outputs": [
    {
     "name": "stdout",
     "output_type": "stream",
     "text": [
      "{'gripper_open': 0, 'position': array([0.29023415, 0.3861009 ], dtype=float32)}\n"
     ]
    }
   ],
   "source": [
    "from gymnasium.spaces import Dict\n",
    "from gymnasium.spaces import Box, Discrete\n",
    "import numpy as np\n",
    "\n",
    "obs_space = Dict({\n",
    "    'position': Box(low=-1, high=1, shape=(2,), dtype=np.float32),\n",
    "    'gripper_open': Discrete(2),\n",
    "})\n",
    "\n",
    "sample = obs_space.sample()\n",
    "print(sample) # Example output: {'gripper_open': 0, 'position': array([ 0.858654  , -0.22619987], dtype=float32)}\n"
   ]
  },
  {
   "cell_type": "code",
   "execution_count": 6,
   "metadata": {},
   "outputs": [
    {
     "name": "stdout",
     "output_type": "stream",
     "text": [
      "True\n",
      "False\n"
     ]
    }
   ],
   "source": [
    "print(obs_space.contains({\"position\": np.array([0.5, -0.2], dtype=np.float32), \"gripper_open\": 1}))  # True\n",
    "print(obs_space.contains({\"position\": np.array([12.0, -3.2], dtype=np.float32), \"gripper_open\": 1}))  # False (out of range)\n"
   ]
  }
 ],
 "metadata": {
  "kernelspec": {
   "display_name": ".venv",
   "language": "python",
   "name": "python3"
  },
  "language_info": {
   "codemirror_mode": {
    "name": "ipython",
    "version": 3
   },
   "file_extension": ".py",
   "mimetype": "text/x-python",
   "name": "python",
   "nbconvert_exporter": "python",
   "pygments_lexer": "ipython3",
   "version": "3.8.10"
  }
 },
 "nbformat": 4,
 "nbformat_minor": 2
}
