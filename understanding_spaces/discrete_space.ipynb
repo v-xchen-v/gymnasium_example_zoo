{
 "cells": [
  {
   "cell_type": "code",
   "execution_count": 1,
   "metadata": {},
   "outputs": [
    {
     "name": "stdout",
     "output_type": "stream",
     "text": [
      "4\n",
      "3\n",
      "True\n",
      "False\n"
     ]
    }
   ],
   "source": [
    "from gymnasium.spaces import Discrete\n",
    "\n",
    "action_space = Discrete(4) # Action: {0, 1, 2, 3}\n",
    "\n",
    "print(action_space.n) # Number of possible actions\n",
    "print(action_space.sample()) # Ramdomly sample an action\n",
    "print(action_space.contains(2)) # Check if 2 is a valid action (True)\n",
    "print(action_space.contains(5)) # Check if 5 is a valid action (False)"
   ]
  }
 ],
 "metadata": {
  "kernelspec": {
   "display_name": ".venv",
   "language": "python",
   "name": "python3"
  },
  "language_info": {
   "codemirror_mode": {
    "name": "ipython",
    "version": 3
   },
   "file_extension": ".py",
   "mimetype": "text/x-python",
   "name": "python",
   "nbconvert_exporter": "python",
   "pygments_lexer": "ipython3",
   "version": "3.8.10"
  }
 },
 "nbformat": 4,
 "nbformat_minor": 2
}
