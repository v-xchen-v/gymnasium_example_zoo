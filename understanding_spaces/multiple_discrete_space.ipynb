{
 "cells": [
  {
   "cell_type": "code",
   "execution_count": 1,
   "metadata": {},
   "outputs": [
    {
     "name": "stdout",
     "output_type": "stream",
     "text": [
      "(3,)\n",
      "[1 3 0]\n",
      "True\n",
      "False\n"
     ]
    }
   ],
   "source": [
    "from gymnasium.spaces import MultiDiscrete\n",
    "\n",
    "multi_action_space = MultiDiscrete([3, 5, 2])\n",
    "\n",
    "print(multi_action_space.shape) # Output: (3,)\n",
    "print(multi_action_space.sample()) # Example: [1 3 0]\n",
    "print(multi_action_space.contains([2, 4, 1])) # Output: True\n",
    "print(multi_action_space.contains([2, 4, 3])) # Output: False (3 is out of range for the last dimension)"
   ]
  }
 ],
 "metadata": {
  "kernelspec": {
   "display_name": ".venv",
   "language": "python",
   "name": "python3"
  },
  "language_info": {
   "codemirror_mode": {
    "name": "ipython",
    "version": 3
   },
   "file_extension": ".py",
   "mimetype": "text/x-python",
   "name": "python",
   "nbconvert_exporter": "python",
   "pygments_lexer": "ipython3",
   "version": "3.8.10"
  }
 },
 "nbformat": 4,
 "nbformat_minor": 2
}
