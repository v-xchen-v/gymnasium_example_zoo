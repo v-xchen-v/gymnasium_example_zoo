{
 "cells": [
  {
   "cell_type": "code",
   "execution_count": 2,
   "metadata": {},
   "outputs": [
    {
     "name": "stdout",
     "output_type": "stream",
     "text": [
      "[0 0 0 1]\n",
      "True\n",
      "False\n",
      "4\n",
      "(4,)\n",
      "int8\n"
     ]
    }
   ],
   "source": [
    "from gymnasium.spaces import MultiBinary\n",
    "\n",
    "binary_space = MultiBinary(4)\n",
    "\n",
    "print(binary_space.sample()) # Example output: [0, 0, 0, 1]\n",
    "print(binary_space.contains([0, 1, 1, 1])) # Example output: True\n",
    "print(binary_space.contains([0, 1, 1])) # Example output: False\n",
    "print(binary_space.n) # Example output: 4\n",
    "print(binary_space.shape) # Example output: (4,)\n",
    "print(binary_space.dtype) # Example output: int8"
   ]
  }
 ],
 "metadata": {
  "kernelspec": {
   "display_name": ".venv",
   "language": "python",
   "name": "python3"
  },
  "language_info": {
   "codemirror_mode": {
    "name": "ipython",
    "version": 3
   },
   "file_extension": ".py",
   "mimetype": "text/x-python",
   "name": "python",
   "nbconvert_exporter": "python",
   "pygments_lexer": "ipython3",
   "version": "3.8.10"
  }
 },
 "nbformat": 4,
 "nbformat_minor": 2
}
