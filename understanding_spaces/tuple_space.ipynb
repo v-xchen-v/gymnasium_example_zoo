{
 "cells": [
  {
   "cell_type": "code",
   "execution_count": 1,
   "metadata": {},
   "outputs": [
    {
     "name": "stdout",
     "output_type": "stream",
     "text": [
      "Tuple(Discrete(2), Box(0.0, 1.0, (3,), float32), Discrete(2))\n",
      "(1, array([0.03831182, 0.09782299, 0.45051533], dtype=float32), 1)\n"
     ]
    }
   ],
   "source": [
    "from gymnasium.spaces import Tuple\n",
    "from gymnasium.spaces import Discrete, Box\n",
    "\n",
    "tuple_space = Tuple((Discrete(2), Box(0, 1, shape=(3,)), Discrete(2)))\n",
    "print(tuple_space) # Tuple(Discrete(2), Box(0.0, 1.0, (3,), float32), Discrete(2))\n",
    "print(tuple_space.sample()) # Example output: (1, array([0.03831182, 0.09782299, 0.45051533], dtype=float32), 1)"
   ]
  }
 ],
 "metadata": {
  "kernelspec": {
   "display_name": ".venv",
   "language": "python",
   "name": "python3"
  },
  "language_info": {
   "codemirror_mode": {
    "name": "ipython",
    "version": 3
   },
   "file_extension": ".py",
   "mimetype": "text/x-python",
   "name": "python",
   "nbconvert_exporter": "python",
   "pygments_lexer": "ipython3",
   "version": "3.8.10"
  }
 },
 "nbformat": 4,
 "nbformat_minor": 2
}
